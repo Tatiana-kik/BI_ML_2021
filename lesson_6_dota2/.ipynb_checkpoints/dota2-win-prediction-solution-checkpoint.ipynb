{
 "cells": [
  {
   "cell_type": "markdown",
   "metadata": {},
   "source": [
    "# Dota2 win prediction - Solution\n",
    "\n",
    "The best score I got is 0.825 by catboost classifier, see details below or jump to the last section\n",
    "\n",
    "1. [Top 3 classifiers](#Top-3-classifiers)\n",
    "2. [New features from raw data set](#New-features-from-raw-dataset)\n",
    "3. [Feature engineering](#Feature-engineering)\n",
    "4. [Feature selection](#Feature-selection)\n",
    "5. [Hyperparams tuning](#Hyperparams-tuning)\n",
    "6. [Prediction on test dataset and submission](#Prediction-on-test-dataset-and-submission)\n",
    "\n",
    "\n",
    "\n"
   ]
  },
  {
   "cell_type": "markdown",
   "metadata": {},
   "source": []
  },
  {
   "cell_type": "code",
   "execution_count": 2,
   "metadata": {
    "execution": {
     "iopub.execute_input": "2022-04-03T17:23:59.932761Z",
     "iopub.status.busy": "2022-04-03T17:23:59.932470Z",
     "iopub.status.idle": "2022-04-03T17:24:02.793609Z",
     "shell.execute_reply": "2022-04-03T17:24:02.792688Z",
     "shell.execute_reply.started": "2022-04-03T17:23:59.932730Z"
    }
   },
   "outputs": [],
   "source": [
    "import os\n",
    "import numpy as np\n",
    "import json\n",
    "import pandas as pd\n",
    "import datetime\n",
    "import warnings\n",
    "import seaborn as sns\n",
    "import matplotlib.pyplot as plt\n",
    "from sklearn.model_selection import train_test_split, ShuffleSplit, cross_val_score\n",
    "from sklearn.metrics import roc_auc_score, accuracy_score\n",
    "import time\n",
    "from boruta import BorutaPy\n",
    "from sklearn.model_selection import GridSearchCV\n",
    "\n",
    "import xgboost\n",
    "import lightgbm\n",
    "import catboost\n",
    "from sklearn.ensemble import (RandomForestClassifier,\n",
    "                              ExtraTreesClassifier,\n",
    "                              VotingClassifier)\n",
    "from sklearn.tree import DecisionTreeClassifier\n",
    "from sklearn.neighbors import KNeighborsClassifier\n",
    "from sklearn.svm import SVC\n",
    "from sklearn.linear_model import LogisticRegression\n",
    "from sklearn.naive_bayes import GaussianNB\n",
    "\n",
    "from sklearn.preprocessing import StandardScaler\n",
    "\n",
    "%matplotlib inline"
   ]
  },
  {
   "cell_type": "code",
   "execution_count": 3,
   "metadata": {
    "execution": {
     "iopub.execute_input": "2022-04-03T17:24:02.795983Z",
     "iopub.status.busy": "2022-04-03T17:24:02.795655Z",
     "iopub.status.idle": "2022-04-03T17:24:02.802564Z",
     "shell.execute_reply": "2022-04-03T17:24:02.801296Z",
     "shell.execute_reply.started": "2022-04-03T17:24:02.795939Z"
    },
    "pycharm": {
     "name": "#%%\n"
    }
   },
   "outputs": [],
   "source": [
    "SEED = 10801\n",
    "sns.set_style(style=\"whitegrid\")\n",
    "plt.rcParams[\"figure.figsize\"] = 12, 8\n",
    "warnings.filterwarnings(\"ignore\")"
   ]
  },
  {
   "cell_type": "code",
   "execution_count": 4,
   "metadata": {
    "execution": {
     "iopub.execute_input": "2022-04-03T17:24:02.805256Z",
     "iopub.status.busy": "2022-04-03T17:24:02.804564Z",
     "iopub.status.idle": "2022-04-03T17:24:04.224518Z",
     "shell.execute_reply": "2022-04-03T17:24:04.223538Z",
     "shell.execute_reply.started": "2022-04-03T17:24:02.805206Z"
    },
    "pycharm": {
     "name": "#%%\n"
    }
   },
   "outputs": [],
   "source": [
    "PATH_TO_DATA = \"./input/bi-2021-ml-competitions-dota2\"\n",
    "\n",
    "df_train_features = pd.read_csv(os.path.join(PATH_TO_DATA,\n",
    "                                             \"train_data.csv\"),\n",
    "                                    index_col=\"match_id_hash\")\n",
    "df_train_targets = pd.read_csv(os.path.join(PATH_TO_DATA,\n",
    "                                            \"train_targets.csv\"),\n",
    "                                   index_col=\"match_id_hash\")"
   ]
  },
  {
   "cell_type": "code",
   "execution_count": 5,
   "metadata": {
    "execution": {
     "iopub.execute_input": "2022-04-03T17:24:04.226106Z",
     "iopub.status.busy": "2022-04-03T17:24:04.225857Z",
     "iopub.status.idle": "2022-04-03T17:24:04.232468Z",
     "shell.execute_reply": "2022-04-03T17:24:04.231847Z",
     "shell.execute_reply.started": "2022-04-03T17:24:04.226073Z"
    },
    "pycharm": {
     "name": "#%%\n"
    }
   },
   "outputs": [],
   "source": [
    "X = df_train_features\n",
    "y = df_train_targets[\"radiant_win\"]\n",
    "cv = ShuffleSplit(n_splits=5, test_size=0.3, random_state=SEED)"
   ]
  },
  {
   "cell_type": "markdown",
   "metadata": {},
   "source": [
    "## Top 3 classifiers\n",
    "\n",
    "Our experiments showed that CAT, RF and LR are top one, so we continue working with them\n"
   ]
  },
  {
   "cell_type": "code",
   "execution_count": 6,
   "metadata": {
    "execution": {
     "iopub.execute_input": "2022-04-03T17:24:04.234947Z",
     "iopub.status.busy": "2022-04-03T17:24:04.234500Z",
     "iopub.status.idle": "2022-04-03T17:24:04.245918Z",
     "shell.execute_reply": "2022-04-03T17:24:04.244899Z",
     "shell.execute_reply.started": "2022-04-03T17:24:04.234905Z"
    },
    "pycharm": {
     "name": "#%%\n"
    }
   },
   "outputs": [],
   "source": [
    "# this function helps us to try different models with different datasets\n",
    "def try_model(X, y, name, model):\n",
    "    start = time.time()\n",
    "\n",
    "    scaler = StandardScaler()\n",
    "    X_scaled = scaler.fit_transform(X)\n",
    "    X_train, X_valid, y_train, y_valid = train_test_split(X_scaled, y,\n",
    "                                                      test_size=0.3,\n",
    "                                                      random_state=SEED)\n",
    "\n",
    "    cv_scores = cross_val_score(model, X_scaled, y, cv=cv, scoring=\"roc_auc\")\n",
    "\n",
    "    model.fit(X_train, y_train)\n",
    "    y_pred = model.predict_proba(X_valid)[:, 1]\n",
    "    accuracy = accuracy_score(y_valid, y_pred > 0.5)\n",
    "    print(f\"{name:>10}: accuracy={accuracy:.3f} mean roc_auc_score={cv_scores.mean():.6f} {time.time() - start:.0f} sec\")\n",
    "    return name, accuracy, cv_scores.mean()"
   ]
  },
  {
   "cell_type": "code",
   "execution_count": 7,
   "metadata": {
    "execution": {
     "iopub.execute_input": "2022-04-03T17:24:04.247913Z",
     "iopub.status.busy": "2022-04-03T17:24:04.247285Z",
     "iopub.status.idle": "2022-04-03T17:24:04.266279Z",
     "shell.execute_reply": "2022-04-03T17:24:04.264840Z",
     "shell.execute_reply.started": "2022-04-03T17:24:04.247875Z"
    },
    "pycharm": {
     "name": "#%%\n"
    }
   },
   "outputs": [],
   "source": [
    "rf = RandomForestClassifier(n_estimators=300, max_depth=7, random_state=SEED)\n",
    "cat = catboost.CatBoostClassifier(verbose=False, random_seed=SEED)\n",
    "lr = LogisticRegression(solver='liblinear', max_iter=10000)\n",
    "\n",
    "base_models = [\n",
    "    (\"RF\", rf),\n",
    "    (\"CAT\", cat),\n",
    "    (\"LR\", lr),\n",
    "]"
   ]
  },
  {
   "cell_type": "code",
   "execution_count": 8,
   "metadata": {
    "execution": {
     "iopub.execute_input": "2022-04-03T17:24:04.268722Z",
     "iopub.status.busy": "2022-04-03T17:24:04.268382Z",
     "iopub.status.idle": "2022-04-03T17:30:22.143079Z",
     "shell.execute_reply": "2022-04-03T17:30:22.139581Z",
     "shell.execute_reply.started": "2022-04-03T17:24:04.268677Z"
    },
    "pycharm": {
     "name": "#%%\n"
    }
   },
   "outputs": [],
   "source": [
    "%%time\n",
    "for name, model in base_models:\n",
    "    try_model(X, y, name, model)"
   ]
  },
  {
   "cell_type": "markdown",
   "metadata": {},
   "source": [
    "So this is what we start from, a baseline for that j-notebook."
   ]
  },
  {
   "cell_type": "markdown",
   "metadata": {},
   "source": [
    "## New features from raw dataset\n",
    "\n",
    "I add new feature from raw dataset (as discussed in experiments):\n",
    "- ability_upgrades\n",
    "- purchase_log\n",
    "- item_uses\n",
    "- ability_uses\n"
   ]
  },
  {
   "cell_type": "code",
   "execution_count": 9,
   "metadata": {
    "execution": {
     "iopub.execute_input": "2022-04-03T17:30:22.145508Z",
     "iopub.status.busy": "2022-04-03T17:30:22.144882Z",
     "iopub.status.idle": "2022-04-03T17:30:22.174504Z",
     "shell.execute_reply": "2022-04-03T17:30:22.173175Z",
     "shell.execute_reply.started": "2022-04-03T17:30:22.145444Z"
    },
    "pycharm": {
     "name": "#%%\n"
    }
   },
   "outputs": [],
   "source": [
    "try:\n",
    "    import ujson as json\n",
    "except ModuleNotFoundError:\n",
    "    import json\n",
    "    print (\"Подумайте об установке ujson, чтобы работать с JSON объектами быстрее\")\n",
    "\n",
    "try:\n",
    "    from tqdm.notebook import tqdm\n",
    "except ModuleNotFoundError:\n",
    "    tqdm_notebook = lambda x: x\n",
    "    print (\"Подумайте об установке tqdm, чтобы следить за прогрессом\")\n",
    "\n",
    "\n",
    "def read_matches(matches_file, total_matches=31698, n_matches_to_read=None):\n",
    "\n",
    "    if n_matches_to_read is None:\n",
    "        n_matches_to_read = total_matches\n",
    "\n",
    "    c = 0\n",
    "    with open(matches_file) as fin:\n",
    "        for line in tqdm(fin, total=total_matches):\n",
    "            if c >= n_matches_to_read:\n",
    "                break\n",
    "            else:\n",
    "                c += 1\n",
    "                yield json.loads(line)"
   ]
  },
  {
   "cell_type": "code",
   "execution_count": 10,
   "metadata": {
    "execution": {
     "iopub.execute_input": "2022-04-03T17:30:22.184723Z",
     "iopub.status.busy": "2022-04-03T17:30:22.181603Z",
     "iopub.status.idle": "2022-04-03T17:30:22.199860Z",
     "shell.execute_reply": "2022-04-03T17:30:22.198640Z",
     "shell.execute_reply.started": "2022-04-03T17:30:22.184645Z"
    },
    "pycharm": {
     "name": "#%%\n"
    }
   },
   "outputs": [],
   "source": [
    "def add_new_features(df, matches_file):\n",
    "    vars = [\"ability_upgrades\", \"purchase_log\", \"item_uses\", \"ability_uses\"]\n",
    "\n",
    "    for match in read_matches(matches_file, total_matches=df.shape[0]):\n",
    "        match_id_hash = match['match_id_hash']\n",
    "\n",
    "        for var in vars:\n",
    "\n",
    "            for idx, player in enumerate(match[\"players\"][:5], start=1):\n",
    "                df.loc[match_id_hash, f\"r{idx}_{var}\"] = len(player[var])\n",
    "\n",
    "            for idx, player in enumerate(match[\"players\"][5:], start=1):\n",
    "                df.loc[match_id_hash, f\"d{idx}_{var}\"] = len(player[var])\n"
   ]
  },
  {
   "cell_type": "code",
   "execution_count": 11,
   "metadata": {
    "execution": {
     "iopub.execute_input": "2022-04-03T17:30:22.211979Z",
     "iopub.status.busy": "2022-04-03T17:30:22.208050Z",
     "iopub.status.idle": "2022-04-03T17:30:22.537463Z",
     "shell.execute_reply": "2022-04-03T17:30:22.536357Z",
     "shell.execute_reply.started": "2022-04-03T17:30:22.211892Z"
    },
    "pycharm": {
     "name": "#%%\n"
    }
   },
   "outputs": [],
   "source": [
    "df_test_features = pd.read_csv(os.path.join(PATH_TO_DATA,\n",
    "                                             \"test_data.csv\"),\n",
    "                                    index_col=\"match_id_hash\")"
   ]
  },
  {
   "cell_type": "code",
   "execution_count": 12,
   "metadata": {
    "execution": {
     "iopub.execute_input": "2022-04-03T17:30:22.539338Z",
     "iopub.status.busy": "2022-04-03T17:30:22.539007Z",
     "iopub.status.idle": "2022-04-03T17:38:47.456118Z",
     "shell.execute_reply": "2022-04-03T17:38:47.455168Z",
     "shell.execute_reply.started": "2022-04-03T17:30:22.539294Z"
    },
    "pycharm": {
     "name": "#%%\n"
    }
   },
   "outputs": [],
   "source": [
    "\n",
    "add_new_features(df_train_features, os.path.join(PATH_TO_DATA, \"train_raw_data.jsonl\"))"
   ]
  },
  {
   "cell_type": "markdown",
   "metadata": {},
   "source": [
    "Let's do it also for _test_ dataset, I will use it later for prediction:"
   ]
  },
  {
   "cell_type": "code",
   "execution_count": 13,
   "metadata": {
    "execution": {
     "iopub.execute_input": "2022-04-03T17:38:47.458746Z",
     "iopub.status.busy": "2022-04-03T17:38:47.458238Z",
     "iopub.status.idle": "2022-04-03T17:40:22.036804Z",
     "shell.execute_reply": "2022-04-03T17:40:22.035814Z",
     "shell.execute_reply.started": "2022-04-03T17:38:47.458692Z"
    },
    "pycharm": {
     "name": "#%%\n"
    }
   },
   "outputs": [],
   "source": [
    "add_new_features(df_test_features, os.path.join(PATH_TO_DATA, \"test_raw_data.jsonl\"))"
   ]
  },
  {
   "cell_type": "markdown",
   "metadata": {},
   "source": [
    "I save these `df_train_features` and `df_test_features` to CSV to avoid long processing of raw jsons."
   ]
  },
  {
   "cell_type": "code",
   "execution_count": 14,
   "metadata": {
    "execution": {
     "iopub.execute_input": "2022-04-03T17:40:22.039394Z",
     "iopub.status.busy": "2022-04-03T17:40:22.038488Z",
     "iopub.status.idle": "2022-04-03T17:40:27.431248Z",
     "shell.execute_reply": "2022-04-03T17:40:27.430370Z",
     "shell.execute_reply.started": "2022-04-03T17:40:22.039326Z"
    },
    "pycharm": {
     "name": "#%%\n"
    }
   },
   "outputs": [],
   "source": [
    "df_train_features.to_csv(\"train_features_ex.csv\")\n",
    "df_test_features.to_csv(\"test_features_ex.csv\")"
   ]
  },
  {
   "cell_type": "markdown",
   "metadata": {},
   "source": [
    "Let's see what our three classifiers are capable of on that extended dataset:"
   ]
  },
  {
   "cell_type": "code",
   "execution_count": 15,
   "metadata": {
    "execution": {
     "iopub.execute_input": "2022-04-03T17:40:27.435603Z",
     "iopub.status.busy": "2022-04-03T17:40:27.435011Z",
     "iopub.status.idle": "2022-04-03T17:47:17.775106Z",
     "shell.execute_reply": "2022-04-03T17:47:17.774098Z",
     "shell.execute_reply.started": "2022-04-03T17:40:27.435564Z"
    },
    "pycharm": {
     "name": "#%%\n"
    }
   },
   "outputs": [],
   "source": [
    "%%time\n",
    "for name, model in base_models:\n",
    "    try_model(df_train_features, y, name, model)"
   ]
  },
  {
   "cell_type": "markdown",
   "metadata": {},
   "source": [
    "Scores are slightly better, it's fine ;)"
   ]
  },
  {
   "cell_type": "markdown",
   "metadata": {},
   "source": [
    "## Feature engineering\n",
    "\n",
    "KDA was mentioned as a good feature, lets add it to datasets."
   ]
  },
  {
   "cell_type": "code",
   "execution_count": 16,
   "metadata": {
    "execution": {
     "iopub.execute_input": "2022-04-03T17:47:17.777650Z",
     "iopub.status.busy": "2022-04-03T17:47:17.776979Z",
     "iopub.status.idle": "2022-04-03T17:47:19.178195Z",
     "shell.execute_reply": "2022-04-03T17:47:19.177069Z",
     "shell.execute_reply.started": "2022-04-03T17:47:17.777589Z"
    },
    "pycharm": {
     "name": "#%%\n"
    }
   },
   "outputs": [],
   "source": [
    "df_train_features = pd.read_csv(\"train_features_ex.csv\", index_col=\"match_id_hash\")\n",
    "df_test_features = pd.read_csv(\"test_features_ex.csv\", index_col=\"match_id_hash\")"
   ]
  },
  {
   "cell_type": "code",
   "execution_count": 17,
   "metadata": {
    "execution": {
     "iopub.execute_input": "2022-04-03T17:47:19.180348Z",
     "iopub.status.busy": "2022-04-03T17:47:19.180027Z",
     "iopub.status.idle": "2022-04-03T17:47:19.186980Z",
     "shell.execute_reply": "2022-04-03T17:47:19.185884Z",
     "shell.execute_reply.started": "2022-04-03T17:47:19.180302Z"
    },
    "pycharm": {
     "name": "#%%\n"
    }
   },
   "outputs": [],
   "source": [
    "def add_kda(df):\n",
    "    for t in \"rd\":\n",
    "        for p in \"12345\":\n",
    "            df[f\"{t}{p}_kda\"] = (df[f\"{t}{p}_kills\"] + df[f\"{t}{p}_assists\"]) / np.maximum(1, df[f\"{t}{p}_deaths\"])\n",
    "    return df"
   ]
  },
  {
   "cell_type": "code",
   "execution_count": 18,
   "metadata": {
    "execution": {
     "iopub.execute_input": "2022-04-03T17:47:19.189284Z",
     "iopub.status.busy": "2022-04-03T17:47:19.188902Z",
     "iopub.status.idle": "2022-04-03T17:47:19.270968Z",
     "shell.execute_reply": "2022-04-03T17:47:19.269881Z",
     "shell.execute_reply.started": "2022-04-03T17:47:19.189234Z"
    },
    "pycharm": {
     "name": "#%%\n"
    }
   },
   "outputs": [],
   "source": [
    "add_kda(df_train_features)"
   ]
  },
  {
   "cell_type": "code",
   "execution_count": 19,
   "metadata": {
    "execution": {
     "iopub.execute_input": "2022-04-03T17:47:19.273098Z",
     "iopub.status.busy": "2022-04-03T17:47:19.272656Z",
     "iopub.status.idle": "2022-04-03T17:47:19.294531Z",
     "shell.execute_reply": "2022-04-03T17:47:19.293573Z",
     "shell.execute_reply.started": "2022-04-03T17:47:19.273051Z"
    },
    "pycharm": {
     "name": "#%%\n"
    }
   },
   "outputs": [],
   "source": [
    "add_kda(df_test_features);"
   ]
  },
  {
   "cell_type": "code",
   "execution_count": 20,
   "metadata": {
    "execution": {
     "iopub.execute_input": "2022-04-03T17:47:19.296369Z",
     "iopub.status.busy": "2022-04-03T17:47:19.296151Z",
     "iopub.status.idle": "2022-04-03T17:47:19.303535Z",
     "shell.execute_reply": "2022-04-03T17:47:19.302447Z",
     "shell.execute_reply.started": "2022-04-03T17:47:19.296340Z"
    },
    "pycharm": {
     "name": "#%%\n"
    }
   },
   "outputs": [],
   "source": [
    "df_test_features.shape, df_train_features.shape"
   ]
  },
  {
   "cell_type": "markdown",
   "metadata": {},
   "source": [
    "we had 245 features at the beginning, added 4 new features from raw data set and KDA per player, so 245+(4+1)*10 = 295 features."
   ]
  },
  {
   "cell_type": "markdown",
   "metadata": {},
   "source": [
    "Now I aggregate player's variables into team variables: mean and std, and\n",
    "I calculate a difference between Radiant and Dire for each variable mean and std.\n",
    "\n",
    "Here I decided to aggregate all features (except _hero_id_), because if some aggregated feature would have low importance, we will just throw it out at FeatureSelection stage, not a big problem."
   ]
  },
  {
   "cell_type": "code",
   "execution_count": 21,
   "metadata": {
    "execution": {
     "iopub.execute_input": "2022-04-03T17:47:19.305442Z",
     "iopub.status.busy": "2022-04-03T17:47:19.305224Z",
     "iopub.status.idle": "2022-04-03T17:47:19.315707Z",
     "shell.execute_reply": "2022-04-03T17:47:19.314673Z",
     "shell.execute_reply.started": "2022-04-03T17:47:19.305412Z"
    },
    "pycharm": {
     "name": "#%%\n"
    }
   },
   "outputs": [],
   "source": [
    "def add_team_diff_std(df):\n",
    "    variables_to_aggregate = [\n",
    "        \"kills\", \"deaths\", \"assists\", \"denies\", \"gold\", \"lh\", \"xp\", \"health\",\n",
    "        \"max_health\", \"max_mana\", \"level\", \"x\", \"y\", \"stuns\", \"creeps_stacked\",\n",
    "        \"camps_stacked\", \"rune_pickups\", \"firstblood_claimed\", \"teamfight_participation\",\n",
    "        \"towers_killed\",\"roshans_killed\", \"obs_placed\", \"sen_placed\", \"ability_upgrades\", \"purchase_log\", \"item_uses\", \"ability_uses\", \"kda\",\n",
    "    ]\n",
    "\n",
    "    for name in variables_to_aggregate:\n",
    "        r_team = [f\"r{p}_{name}\" for p in \"12345\"]\n",
    "        d_team = [f\"d{p}_{name}\" for p in \"12345\"]\n",
    "\n",
    "        df[name] = df[r_team].mean(axis=1) - df[d_team].mean(axis=1)\n",
    "        df[f\"{name}_std\"] = df[r_team].std(axis=1) - df[d_team].std(axis=1)\n",
    "\n",
    "    return df"
   ]
  },
  {
   "cell_type": "code",
   "execution_count": 22,
   "metadata": {
    "execution": {
     "iopub.execute_input": "2022-04-03T17:47:19.318167Z",
     "iopub.status.busy": "2022-04-03T17:47:19.317469Z",
     "iopub.status.idle": "2022-04-03T17:47:21.186729Z",
     "shell.execute_reply": "2022-04-03T17:47:21.185582Z",
     "shell.execute_reply.started": "2022-04-03T17:47:19.318117Z"
    },
    "pycharm": {
     "name": "#%%\n"
    }
   },
   "outputs": [],
   "source": [
    "add_team_diff_std(df_train_features)"
   ]
  },
  {
   "cell_type": "code",
   "execution_count": 23,
   "metadata": {
    "execution": {
     "iopub.execute_input": "2022-04-03T17:47:21.188833Z",
     "iopub.status.busy": "2022-04-03T17:47:21.188458Z",
     "iopub.status.idle": "2022-04-03T17:47:21.620345Z",
     "shell.execute_reply": "2022-04-03T17:47:21.619264Z",
     "shell.execute_reply.started": "2022-04-03T17:47:21.188760Z"
    },
    "pycharm": {
     "name": "#%%\n"
    }
   },
   "outputs": [],
   "source": [
    "add_team_diff_std(df_test_features);"
   ]
  },
  {
   "cell_type": "markdown",
   "metadata": {},
   "source": [
    "Let's see what this feature engineering (now we have 351 features) gives us:"
   ]
  },
  {
   "cell_type": "code",
   "execution_count": 24,
   "metadata": {
    "execution": {
     "iopub.execute_input": "2022-04-03T17:47:21.622163Z",
     "iopub.status.busy": "2022-04-03T17:47:21.621917Z",
     "iopub.status.idle": "2022-04-03T17:55:56.673037Z",
     "shell.execute_reply": "2022-04-03T17:55:56.671443Z",
     "shell.execute_reply.started": "2022-04-03T17:47:21.622130Z"
    },
    "pycharm": {
     "name": "#%%\n"
    }
   },
   "outputs": [],
   "source": [
    "%%time\n",
    "for name, model in base_models:\n",
    "    try_model(df_train_features, y, name, model)"
   ]
  },
  {
   "cell_type": "markdown",
   "metadata": {},
   "source": [
    "These are good results and improvements over initial dataset:\n",
    "RF  0.773139\n",
    "CAT 0.801168\n",
    " LR 0.808886"
   ]
  },
  {
   "cell_type": "markdown",
   "metadata": {},
   "source": [
    "Again, saving datasets along the way, to avoid waiting for processing or repeating some steps from above:"
   ]
  },
  {
   "cell_type": "code",
   "execution_count": 25,
   "metadata": {
    "execution": {
     "iopub.execute_input": "2022-04-03T17:55:56.676890Z",
     "iopub.status.busy": "2022-04-03T17:55:56.676471Z",
     "iopub.status.idle": "2022-04-03T17:56:06.721471Z",
     "shell.execute_reply": "2022-04-03T17:56:06.720770Z",
     "shell.execute_reply.started": "2022-04-03T17:55:56.676838Z"
    },
    "pycharm": {
     "name": "#%%\n"
    }
   },
   "outputs": [],
   "source": [
    "df_train_features.to_csv(\"my_train_features.csv\")\n",
    "df_test_features.to_csv(\"my_test_features.csv\")"
   ]
  },
  {
   "cell_type": "markdown",
   "metadata": {},
   "source": [
    "## Feature selection\n",
    "\n",
    "Not all features are good, some are noisy ones, we can drop them"
   ]
  },
  {
   "cell_type": "markdown",
   "metadata": {},
   "source": [
    "NOTE: there several feature selection methods (from [sklearn](https://scikit-learn.org/stable/modules/feature_selection.html) [SelectFromModel, SequentialFeatureSelection, Recursive feature elimination], from [eli5](https://eli5.readthedocs.io/en/latest/blackbox/permutation_importance.html) [PermutationImportance], Boruta).\n",
    "\n",
    "SelectFromModel is the simplest one (it selects features based on model's feature importance) and it's fast."
   ]
  },
  {
   "cell_type": "code",
   "execution_count": 26,
   "metadata": {
    "execution": {
     "iopub.execute_input": "2022-04-03T17:56:06.723366Z",
     "iopub.status.busy": "2022-04-03T17:56:06.723118Z",
     "iopub.status.idle": "2022-04-03T17:56:08.646600Z",
     "shell.execute_reply": "2022-04-03T17:56:08.645931Z",
     "shell.execute_reply.started": "2022-04-03T17:56:06.723333Z"
    },
    "pycharm": {
     "name": "#%%\n"
    }
   },
   "outputs": [],
   "source": [
    "df_train_features = pd.read_csv(\"my_train_features.csv\", index_col=\"match_id_hash\")\n",
    "df_test_features = pd.read_csv(\"my_test_features.csv\", index_col=\"match_id_hash\")"
   ]
  },
  {
   "cell_type": "markdown",
   "metadata": {},
   "source": [
    "Let's look at feature importance of each model:"
   ]
  },
  {
   "cell_type": "code",
   "execution_count": 27,
   "metadata": {
    "execution": {
     "iopub.execute_input": "2022-04-03T17:56:08.648461Z",
     "iopub.status.busy": "2022-04-03T17:56:08.648215Z",
     "iopub.status.idle": "2022-04-03T17:56:14.871042Z",
     "shell.execute_reply": "2022-04-03T17:56:14.870060Z",
     "shell.execute_reply.started": "2022-04-03T17:56:08.648431Z"
    },
    "pycharm": {
     "name": "#%%\n"
    }
   },
   "outputs": [],
   "source": [
    "from sklearn.feature_selection import SelectFromModel\n",
    "import eli5\n",
    "from IPython.display import display"
   ]
  },
  {
   "cell_type": "markdown",
   "metadata": {},
   "source": [
    "### RF"
   ]
  },
  {
   "cell_type": "code",
   "execution_count": 28,
   "metadata": {
    "execution": {
     "iopub.execute_input": "2022-04-03T17:56:14.873026Z",
     "iopub.status.busy": "2022-04-03T17:56:14.872753Z",
     "iopub.status.idle": "2022-04-03T17:56:15.015627Z",
     "shell.execute_reply": "2022-04-03T17:56:15.014822Z",
     "shell.execute_reply.started": "2022-04-03T17:56:14.872994Z"
    },
    "pycharm": {
     "name": "#%%\n"
    }
   },
   "outputs": [],
   "source": [
    "display(eli5.show_weights(rf, feature_names=list(df_train_features), top=50))"
   ]
  },
  {
   "cell_type": "code",
   "execution_count": 29,
   "metadata": {
    "execution": {
     "iopub.execute_input": "2022-04-03T17:56:15.017473Z",
     "iopub.status.busy": "2022-04-03T17:56:15.017233Z",
     "iopub.status.idle": "2022-04-03T17:56:15.024127Z",
     "shell.execute_reply": "2022-04-03T17:56:15.023204Z",
     "shell.execute_reply.started": "2022-04-03T17:56:15.017443Z"
    },
    "pycharm": {
     "name": "#%%\n"
    }
   },
   "outputs": [],
   "source": [
    "def select_features_rf(full_df, threshold=0.005):\n",
    "    sel_rf = SelectFromModel(rf, threshold=threshold, prefit=True)\n",
    "    print(f\"{sel_rf.get_support().sum()} features left\")\n",
    "    _rf = RandomForestClassifier(n_estimators=300, max_depth=7, random_state=SEED)\n",
    "    df = full_df[full_df.columns[sel_rf.get_support()]]\n",
    "    try_model(df, y, \"selected RF\", _rf)\n",
    "    return sel_rf.get_support()\n"
   ]
  },
  {
   "cell_type": "code",
   "execution_count": 30,
   "metadata": {
    "execution": {
     "iopub.execute_input": "2022-04-03T17:56:15.026749Z",
     "iopub.status.busy": "2022-04-03T17:56:15.026356Z",
     "iopub.status.idle": "2022-04-03T17:57:28.888751Z",
     "shell.execute_reply": "2022-04-03T17:57:28.887724Z",
     "shell.execute_reply.started": "2022-04-03T17:56:15.026704Z"
    },
    "pycharm": {
     "name": "#%%\n"
    }
   },
   "outputs": [],
   "source": [
    "select_features_rf(df_train_features, threshold=0.005);"
   ]
  },
  {
   "cell_type": "code",
   "execution_count": 31,
   "metadata": {
    "execution": {
     "iopub.execute_input": "2022-04-03T17:57:28.890718Z",
     "iopub.status.busy": "2022-04-03T17:57:28.890483Z",
     "iopub.status.idle": "2022-04-03T17:58:32.902969Z",
     "shell.execute_reply": "2022-04-03T17:58:32.901670Z",
     "shell.execute_reply.started": "2022-04-03T17:57:28.890688Z"
    },
    "pycharm": {
     "name": "#%%\n"
    }
   },
   "outputs": [],
   "source": [
    "select_features_rf(df_train_features, threshold=0.009);"
   ]
  },
  {
   "cell_type": "markdown",
   "metadata": {},
   "source": [
    "### CAT"
   ]
  },
  {
   "cell_type": "code",
   "execution_count": 32,
   "metadata": {
    "execution": {
     "iopub.execute_input": "2022-04-03T17:58:32.905007Z",
     "iopub.status.busy": "2022-04-03T17:58:32.904624Z",
     "iopub.status.idle": "2022-04-03T17:58:32.924968Z",
     "shell.execute_reply": "2022-04-03T17:58:32.924081Z",
     "shell.execute_reply.started": "2022-04-03T17:58:32.904963Z"
    },
    "pycharm": {
     "name": "#%%\n"
    }
   },
   "outputs": [],
   "source": [
    "display(eli5.show_weights(cat, feature_names=list(df_train_features), top=50))"
   ]
  },
  {
   "cell_type": "code",
   "execution_count": 33,
   "metadata": {
    "execution": {
     "iopub.execute_input": "2022-04-03T17:58:32.926883Z",
     "iopub.status.busy": "2022-04-03T17:58:32.926546Z",
     "iopub.status.idle": "2022-04-03T17:58:32.933897Z",
     "shell.execute_reply": "2022-04-03T17:58:32.933155Z",
     "shell.execute_reply.started": "2022-04-03T17:58:32.926839Z"
    },
    "pycharm": {
     "name": "#%%\n"
    }
   },
   "outputs": [],
   "source": [
    "def select_features_cat(full_df, threshold=0.005):\n",
    "    sel_cat = SelectFromModel(cat, threshold=threshold, prefit=True)\n",
    "    print(f\"{sel_cat.get_support().sum()} features left\")\n",
    "    _cat = catboost.CatBoostClassifier(verbose=False, random_seed=SEED)\n",
    "    df = full_df[full_df.columns[sel_cat.get_support()]]\n",
    "    try_model(df, y, \"selected CAT\", _cat)\n",
    "    return sel_cat.get_support()"
   ]
  },
  {
   "cell_type": "code",
   "execution_count": 34,
   "metadata": {
    "execution": {
     "iopub.execute_input": "2022-04-03T17:58:32.936331Z",
     "iopub.status.busy": "2022-04-03T17:58:32.935390Z",
     "iopub.status.idle": "2022-04-03T18:02:14.456765Z",
     "shell.execute_reply": "2022-04-03T18:02:14.455871Z",
     "shell.execute_reply.started": "2022-04-03T17:58:32.936294Z"
    },
    "pycharm": {
     "name": "#%%\n"
    }
   },
   "outputs": [],
   "source": [
    "select_features_cat(df_train_features, threshold=0.1);"
   ]
  },
  {
   "cell_type": "code",
   "execution_count": 35,
   "metadata": {
    "execution": {
     "iopub.execute_input": "2022-04-03T18:02:14.459394Z",
     "iopub.status.busy": "2022-04-03T18:02:14.458319Z",
     "iopub.status.idle": "2022-04-03T18:04:26.994299Z",
     "shell.execute_reply": "2022-04-03T18:04:26.993417Z",
     "shell.execute_reply.started": "2022-04-03T18:02:14.459338Z"
    },
    "pycharm": {
     "name": "#%%\n"
    }
   },
   "outputs": [],
   "source": [
    "select_features_cat(df_train_features, threshold=0.3);"
   ]
  },
  {
   "cell_type": "code",
   "execution_count": 36,
   "metadata": {
    "execution": {
     "iopub.execute_input": "2022-04-03T18:04:26.996057Z",
     "iopub.status.busy": "2022-04-03T18:04:26.995784Z",
     "iopub.status.idle": "2022-04-03T18:05:44.150898Z",
     "shell.execute_reply": "2022-04-03T18:05:44.149901Z",
     "shell.execute_reply.started": "2022-04-03T18:04:26.996024Z"
    },
    "pycharm": {
     "name": "#%%\n"
    }
   },
   "outputs": [],
   "source": [
    "select_features_cat(df_train_features, threshold=0.5);"
   ]
  },
  {
   "cell_type": "markdown",
   "metadata": {},
   "source": [
    "### LR"
   ]
  },
  {
   "cell_type": "code",
   "execution_count": 37,
   "metadata": {
    "execution": {
     "iopub.execute_input": "2022-04-03T18:05:44.152546Z",
     "iopub.status.busy": "2022-04-03T18:05:44.152285Z",
     "iopub.status.idle": "2022-04-03T18:05:44.207065Z",
     "shell.execute_reply": "2022-04-03T18:05:44.206145Z",
     "shell.execute_reply.started": "2022-04-03T18:05:44.152506Z"
    },
    "pycharm": {
     "name": "#%%\n"
    }
   },
   "outputs": [],
   "source": [
    "display(eli5.show_weights(lr, feature_names=list(df_train_features), top=50))"
   ]
  },
  {
   "cell_type": "code",
   "execution_count": 38,
   "metadata": {
    "execution": {
     "iopub.execute_input": "2022-04-03T18:05:44.208676Z",
     "iopub.status.busy": "2022-04-03T18:05:44.208428Z",
     "iopub.status.idle": "2022-04-03T18:05:44.214944Z",
     "shell.execute_reply": "2022-04-03T18:05:44.214072Z",
     "shell.execute_reply.started": "2022-04-03T18:05:44.208642Z"
    },
    "pycharm": {
     "name": "#%%\n"
    }
   },
   "outputs": [],
   "source": [
    "def select_features_lr(full_df, threshold=0.005):\n",
    "    sel_lr = SelectFromModel(lr, threshold=threshold, prefit=True)\n",
    "    print(f\"{sel_lr.get_support().sum()} features left, threshold={threshold}\")\n",
    "    _lr = LogisticRegression(solver='liblinear', max_iter=10000)\n",
    "    df = full_df[full_df.columns[sel_lr.get_support()]]\n",
    "    try_model(df, y, \"selected LR\", _lr)\n",
    "    return sel_lr.get_support()"
   ]
  },
  {
   "cell_type": "code",
   "execution_count": 39,
   "metadata": {
    "execution": {
     "iopub.execute_input": "2022-04-03T18:05:44.217359Z",
     "iopub.status.busy": "2022-04-03T18:05:44.216422Z",
     "iopub.status.idle": "2022-04-03T18:08:22.490354Z",
     "shell.execute_reply": "2022-04-03T18:08:22.488940Z",
     "shell.execute_reply.started": "2022-04-03T18:05:44.217241Z"
    },
    "pycharm": {
     "name": "#%%\n"
    }
   },
   "outputs": [],
   "source": [
    "select_features_lr(df_train_features, threshold=0.005);\n",
    "select_features_lr(df_train_features, threshold=0.01);\n",
    "select_features_lr(df_train_features, threshold=0.04);\n",
    "select_features_lr(df_train_features, threshold=0.05);\n",
    "select_features_lr(df_train_features, threshold=0.075);\n",
    "select_features_lr(df_train_features, threshold=0.1);"
   ]
  },
  {
   "cell_type": "markdown",
   "metadata": {},
   "source": [
    "### Results of feature selection\n",
    "\n",
    "For all three models we see that _gold, xp and level_ (team variables) - are top three features.\n",
    "\n",
    "We dropped noisy features (by a simple method) and at the same time didn't lose score of models, but gained a bit of speed of fitting them.\n",
    "\n",
    "Also CAT is a winner, its roc_auc=0.821\n",
    "\n",
    "Now we transform _train_ and _test_ datasets and save them to csv:"
   ]
  },
  {
   "cell_type": "code",
   "execution_count": 40,
   "metadata": {
    "execution": {
     "iopub.execute_input": "2022-04-03T18:08:22.497152Z",
     "iopub.status.busy": "2022-04-03T18:08:22.492676Z",
     "iopub.status.idle": "2022-04-03T18:08:22.508222Z",
     "shell.execute_reply": "2022-04-03T18:08:22.505978Z",
     "shell.execute_reply.started": "2022-04-03T18:08:22.497075Z"
    },
    "pycharm": {
     "name": "#%%\n"
    }
   },
   "outputs": [],
   "source": [
    "sel_cat = SelectFromModel(cat, threshold=0.3, prefit=True)\n",
    "print(f\"{sel_cat.get_support().sum()} features left\")\n",
    "\n",
    "def transform(full_df, sel_cat):\n",
    "    return full_df[full_df.columns[sel_cat.get_support()]]"
   ]
  },
  {
   "cell_type": "code",
   "execution_count": 41,
   "metadata": {
    "execution": {
     "iopub.execute_input": "2022-04-03T18:08:22.510439Z",
     "iopub.status.busy": "2022-04-03T18:08:22.510132Z",
     "iopub.status.idle": "2022-04-03T18:08:27.734744Z",
     "shell.execute_reply": "2022-04-03T18:08:27.733476Z",
     "shell.execute_reply.started": "2022-04-03T18:08:22.510394Z"
    },
    "pycharm": {
     "name": "#%%\n"
    }
   },
   "outputs": [],
   "source": [
    "transform(df_train_features, sel_cat).to_csv(\"selected_train_features.csv\")\n",
    "transform(df_test_features, sel_cat).to_csv(\"selected_test_features.csv\")"
   ]
  },
  {
   "cell_type": "markdown",
   "metadata": {},
   "source": [
    "## Hyperparams tuning\n",
    "\n",
    "Let's tune"
   ]
  },
  {
   "cell_type": "code",
   "execution_count": 42,
   "metadata": {
    "execution": {
     "iopub.execute_input": "2022-04-03T18:08:27.741384Z",
     "iopub.status.busy": "2022-04-03T18:08:27.741084Z",
     "iopub.status.idle": "2022-04-03T18:08:28.553963Z",
     "shell.execute_reply": "2022-04-03T18:08:28.552849Z",
     "shell.execute_reply.started": "2022-04-03T18:08:27.741346Z"
    },
    "pycharm": {
     "name": "#%%\n"
    }
   },
   "outputs": [],
   "source": [
    "df_train_features = pd.read_csv(\"selected_train_features.csv\", index_col=\"match_id_hash\")\n",
    "df_test_features = pd.read_csv(\"selected_test_features.csv\", index_col=\"match_id_hash\")"
   ]
  },
  {
   "cell_type": "code",
   "execution_count": 43,
   "metadata": {
    "execution": {
     "iopub.execute_input": "2022-04-03T18:08:28.555954Z",
     "iopub.status.busy": "2022-04-03T18:08:28.555415Z",
     "iopub.status.idle": "2022-04-03T18:18:05.639587Z",
     "shell.execute_reply": "2022-04-03T18:18:05.638878Z",
     "shell.execute_reply.started": "2022-04-03T18:08:28.555909Z"
    },
    "pycharm": {
     "name": "#%%\n"
    }
   },
   "outputs": [],
   "source": [
    "%%time\n",
    "cat_search = GridSearchCV(estimator=catboost.CatBoostClassifier(verbose=False, random_seed=SEED),\n",
    "                          param_grid={\n",
    "                              'learning_rate': [0.03],  #[0.01, 0.03, 0.1],\n",
    "                              'depth': [5, 6],\n",
    "                              'l2_leaf_reg': [1, 3, 5]\n",
    "                          }, scoring=\"roc_auc\")\n",
    "cat_search.fit(df_train_features, y)\n",
    "cat_search.best_params_\n"
   ]
  },
  {
   "cell_type": "code",
   "execution_count": 44,
   "metadata": {
    "execution": {
     "iopub.execute_input": "2022-04-03T18:18:05.641627Z",
     "iopub.status.busy": "2022-04-03T18:18:05.641286Z",
     "iopub.status.idle": "2022-04-03T18:18:05.648265Z",
     "shell.execute_reply": "2022-04-03T18:18:05.647430Z",
     "shell.execute_reply.started": "2022-04-03T18:18:05.641582Z"
    },
    "pycharm": {
     "name": "#%%\n"
    }
   },
   "outputs": [],
   "source": [
    "cat_search.best_score_"
   ]
  },
  {
   "cell_type": "markdown",
   "metadata": {},
   "source": [
    "**Yay! Before it was 0.821, here we have 0.825**"
   ]
  },
  {
   "cell_type": "markdown",
   "metadata": {},
   "source": [
    "## Prediction on test dataset and submission"
   ]
  },
  {
   "cell_type": "code",
   "execution_count": 46,
   "metadata": {
    "execution": {
     "iopub.execute_input": "2022-04-03T18:23:32.971495Z",
     "iopub.status.busy": "2022-04-03T18:23:32.970540Z",
     "iopub.status.idle": "2022-04-03T18:23:33.026981Z",
     "shell.execute_reply": "2022-04-03T18:23:33.025844Z",
     "shell.execute_reply.started": "2022-04-03T18:23:32.971409Z"
    },
    "pycharm": {
     "name": "#%%\n"
    }
   },
   "outputs": [],
   "source": [
    "from datetime import datetime\n",
    "\n",
    "y_test_pred = cat_search.best_estimator_.predict_proba(df_test_features.values)[:, 1]\n",
    "\n",
    "df_submission = pd.DataFrame({\"radiant_win_prob\": y_test_pred},\n",
    "                                 index=df_test_features.index)\n",
    "file_name = \"submission-{}.csv\".format(datetime.now().strftime(\"%Y-%m-%d_%H-%M-%S\"))\n",
    "\n",
    "df_submission.to_csv(file_name)"
   ]
  },
  {
   "cell_type": "markdown",
   "metadata": {
    "pycharm": {
     "name": "#%%\n"
    }
   },
   "source": [
    "![](https://i.imgflip.com/2hzv20.jpg)"
   ]
  }
 ],
 "metadata": {
  "kernelspec": {
   "display_name": "Python 3 (ipykernel)",
   "language": "python",
   "name": "python3"
  },
  "language_info": {
   "codemirror_mode": {
    "name": "ipython",
    "version": 3
   },
   "file_extension": ".py",
   "mimetype": "text/x-python",
   "name": "python",
   "nbconvert_exporter": "python",
   "pygments_lexer": "ipython3",
   "version": "3.10.2"
  }
 },
 "nbformat": 4,
 "nbformat_minor": 4
}
